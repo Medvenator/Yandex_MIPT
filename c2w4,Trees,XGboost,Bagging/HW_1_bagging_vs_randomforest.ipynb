{
 "cells": [
  {
   "cell_type": "code",
   "execution_count": 62,
   "metadata": {},
   "outputs": [],
   "source": [
    "import numpy as np\n",
    "from sklearn.datasets import load_digits\n",
    "from sklearn.model_selection import cross_val_score\n",
    "from sklearn import tree \n",
    "from sklearn.ensemble import BaggingClassifier\n",
    "from sklearn.ensemble import RandomForestClassifier"
   ]
  },
  {
   "cell_type": "code",
   "execution_count": 18,
   "metadata": {},
   "outputs": [],
   "source": [
    "digits_data = load_digits()"
   ]
  },
  {
   "cell_type": "code",
   "execution_count": 19,
   "metadata": {},
   "outputs": [
    {
     "name": "stdout",
     "output_type": "stream",
     "text": [
      "(1797, 64)\n",
      "(1797,)\n"
     ]
    }
   ],
   "source": [
    "X = digits_data['data']\n",
    "y = digits_data['target']\n",
    "print(X.shape)\n",
    "print(y.shape)"
   ]
  },
  {
   "cell_type": "code",
   "execution_count": 44,
   "metadata": {},
   "outputs": [
    {
     "data": {
      "text/plain": [
       "0.8323902480149747"
      ]
     },
     "execution_count": 44,
     "metadata": {},
     "output_type": "execute_result"
    }
   ],
   "source": [
    "clf = tree.DecisionTreeClassifier()\n",
    "cv_scores = cross_val_score(estimator=clf, X=X, y=y, cv=10, n_jobs=-1)\n",
    "answ_1 = cv_scores.mean()\n",
    "answ_1"
   ]
  },
  {
   "cell_type": "code",
   "execution_count": 51,
   "metadata": {},
   "outputs": [
    {
     "data": {
      "text/plain": [
       "0.9193455023594377"
      ]
     },
     "execution_count": 51,
     "metadata": {},
     "output_type": "execute_result"
    }
   ],
   "source": [
    "bag_clf = BaggingClassifier(base_estimator=tree.DecisionTreeClassifier(), n_jobs=-1, n_estimators=100)\n",
    "cv_scores = cross_val_score(estimator=bag_clf, X=X, y=y, cv=10, n_jobs=-1)\n",
    "answ_2 = cv_scores.mean()\n",
    "answ_2"
   ]
  },
  {
   "cell_type": "code",
   "execution_count": 69,
   "metadata": {},
   "outputs": [
    {
     "data": {
      "text/plain": [
       "0.9517366527093062"
      ]
     },
     "execution_count": 69,
     "metadata": {},
     "output_type": "execute_result"
    }
   ],
   "source": [
    "bag_clf = BaggingClassifier(base_estimator=tree.DecisionTreeClassifier(max_features=X.shape[1]**0.5/X.shape[1]), n_estimators=100, n_jobs=-1)\n",
    "cv_scores = cross_val_score(estimator=bag_clf, X=X, y=y, cv=10, n_jobs=-1)\n",
    "answ_4 = cv_scores.mean()\n",
    "answ_4"
   ]
  },
  {
   "cell_type": "code",
   "execution_count": 86,
   "metadata": {},
   "outputs": [
    {
     "data": {
      "text/plain": [
       "0.9544217851749526"
      ]
     },
     "execution_count": 86,
     "metadata": {},
     "output_type": "execute_result"
    }
   ],
   "source": [
    "rf_clf = RandomForestClassifier(n_estimators=100, max_features=X.shape[1]**0.5/X.shape[1])\n",
    "cv_scores = cross_val_score(estimator=rf_clf, X=X, y=y, cv=10, n_jobs=-1)\n",
    "cv_scores.mean()"
   ]
  },
  {
   "cell_type": "code",
   "execution_count": 87,
   "metadata": {},
   "outputs": [],
   "source": [
    "answ_5 = '2 3 4 7'"
   ]
  },
  {
   "cell_type": "code",
   "execution_count": 88,
   "metadata": {},
   "outputs": [],
   "source": [
    "def write_answer_1(answ):\n",
    "    with open(\"1_answer_1.txt\", \"w\") as fout:\n",
    "        fout.write(str(answ))\n",
    "def write_answer_2(answ):\n",
    "    with open(\"1_answer_2.txt\", \"w\") as fout:\n",
    "        fout.write(str(answ))\n",
    "def write_answer_3(answ):\n",
    "    with open(\"1_answer_3.txt\", \"w\") as fout:\n",
    "        fout.write(str(answ))\n",
    "def write_answer_4(answ):\n",
    "    with open(\"1_answer_4.txt\", \"w\") as fout:\n",
    "        fout.write(str(answ))\n",
    "def write_answer_5(answ):\n",
    "    with open(\"1_answer_5.txt\", \"w\") as fout:\n",
    "        fout.write(str(answ))"
   ]
  },
  {
   "cell_type": "code",
   "execution_count": 89,
   "metadata": {},
   "outputs": [],
   "source": [
    "write_answer_1(answ_1)\n",
    "write_answer_2(answ_2)\n",
    "write_answer_3(answ_3)\n",
    "write_answer_4(answ_4)\n",
    "write_answer_5(answ_5)"
   ]
  },
  {
   "cell_type": "code",
   "execution_count": null,
   "metadata": {},
   "outputs": [],
   "source": []
  }
 ],
 "metadata": {
  "kernelspec": {
   "display_name": "Python 3",
   "language": "python",
   "name": "python3"
  },
  "language_info": {
   "codemirror_mode": {
    "name": "ipython",
    "version": 3
   },
   "file_extension": ".py",
   "mimetype": "text/x-python",
   "name": "python",
   "nbconvert_exporter": "python",
   "pygments_lexer": "ipython3",
   "version": "3.7.4"
  }
 },
 "nbformat": 4,
 "nbformat_minor": 2
}
