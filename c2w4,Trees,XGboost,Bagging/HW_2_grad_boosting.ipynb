{
 "cells": [
  {
   "cell_type": "markdown",
   "metadata": {},
   "source": [
    "# Градиентный бустинг своими руками\n",
    "\n",
    "**Внимание:** в тексте задания произошли изменения - поменялось число деревьев (теперь 50), правило изменения величины шага в задании 3 и добавился параметр `random_state` у решающего дерева. Правильные ответы не поменялись, но теперь их проще получить. Также исправлена опечатка в функции `gbm_predict`.\n",
    "\n",
    "В этом задании будет использоваться датасет `boston` из `sklearn.datasets`. Оставьте последние 25% объектов для контроля качества, разделив `X` и `y` на `X_train`, `y_train` и `X_test`, `y_test`.\n",
    "\n",
    "Целью задания будет реализовать простой вариант градиентного бустинга над регрессионными деревьями для случая квадратичной функции потерь."
   ]
  },
  {
   "cell_type": "code",
   "execution_count": 43,
   "metadata": {},
   "outputs": [
    {
     "name": "stdout",
     "output_type": "stream",
     "text": [
      "(506, 13)\n",
      "(506,)\n",
      "(379, 13)\n",
      "(127, 13)\n",
      "(379,)\n",
      "(127,)\n"
     ]
    }
   ],
   "source": [
    "from sklearn.datasets import load_boston\n",
    "\n",
    "X, y = load_boston(return_X_y=True)\n",
    "print(X.shape)\n",
    "print(y.shape)\n",
    "\n",
    "X_train = X[:int(X.shape[0]*0.75)]\n",
    "X_test = X[int(X.shape[0]*0.75):]\n",
    "y_train = y[:int(X.shape[0]*0.75)]\n",
    "y_test = y[int(X.shape[0]*0.75):]\n",
    "print(X_train.shape)\n",
    "print(X_test.shape)\n",
    "print(y_train.shape)\n",
    "print(y_test.shape)"
   ]
  },
  {
   "cell_type": "markdown",
   "metadata": {},
   "source": [
    "## Задание 1\n",
    "\n",
    "Как вы уже знаете из лекций, **бустинг** - это метод построения композиций базовых алгоритмов с помощью последовательного добавления к текущей композиции нового алгоритма с некоторым коэффициентом. \n",
    "\n",
    "Градиентный бустинг обучает каждый новый алгоритм так, чтобы он приближал антиградиент ошибки по ответам композиции на обучающей выборке. Аналогично минимизации функций методом градиентного спуска, в градиентном бустинге мы подправляем композицию, изменяя алгоритм в направлении антиградиента ошибки.\n",
    "\n",
    "Воспользуйтесь формулой из лекций, задающей ответы на обучающей выборке, на которые нужно обучать новый алгоритм (фактически это лишь чуть более подробно расписанный градиент от ошибки), и получите частный ее случай, если функция потерь `L` - квадрат отклонения ответа композиции `a(x)` от правильного ответа `y` на данном `x`.\n",
    "\n",
    "Если вы давно не считали производную самостоятельно, вам поможет таблица производных элементарных функций (которую несложно найти в интернете) и правило дифференцирования сложной функции. После дифференцирования квадрата у вас возникнет множитель 2 — т.к. нам все равно предстоит выбирать коэффициент, с которым будет добавлен новый базовый алгоритм, проигноируйте этот множитель при дальнейшем построении алгоритма."
   ]
  },
  {
   "cell_type": "markdown",
   "metadata": {
    "collapsed": true
   },
   "source": [
    "L = (y-z)$^2$ => L'=-2(y-z) => L'=-(y-z) => -$\\nabla$L=y-z\n",
    "\n",
    "L = (z-y)$^2$ => L'=2(z-y) => L'=-(y-z) => -$\\nabla$L=y-z"
   ]
  },
  {
   "cell_type": "markdown",
   "metadata": {},
   "source": [
    "## Задание 2\n",
    "\n",
    "Заведите массив для объектов `DecisionTreeRegressor` (будем их использовать в качестве базовых алгоритмов) и для вещественных чисел (это будут коэффициенты перед базовыми алгоритмами). \n",
    "\n",
    "В цикле от обучите последовательно 50 решающих деревьев с параметрами `max_depth=5` и `random_state=42` (остальные параметры - по умолчанию). В бустинге зачастую используются сотни и тысячи деревьев, но мы ограничимся 50, чтобы алгоритм работал быстрее, и его было проще отлаживать (т.к. цель задания разобраться, как работает метод). Каждое дерево должно обучаться на одном и том же множестве объектов, но ответы, которые учится прогнозировать дерево, будут меняться в соответствие с полученным в задании 1 правилом. \n",
    "\n",
    "Попробуйте для начала всегда брать коэффициент равным 0.9. Обычно оправдано выбирать коэффициент значительно меньшим - порядка 0.05 или 0.1, но т.к. в нашем учебном примере на стандартном датасете будет всего 50 деревьев, возьмем для начала шаг побольше.\n",
    "\n",
    "В процессе реализации обучения вам потребуется функция, которая будет вычислять прогноз построенной на данный момент композиции деревьев на выборке `X`:\n",
    "\n",
    "```\n",
    "def gbm_predict(X):\n",
    "    return [sum([coeff * algo.predict([x])[0] for algo, coeff in zip(base_algorithms_list, coefficients_list)]) for x in X]\n",
    "(считаем, что base_algorithms_list - список с базовыми алгоритмами, coefficients_list - список с коэффициентами перед алгоритмами)\n",
    "```\n",
    "\n",
    "Эта же функция поможет вам получить прогноз на контрольной выборке и оценить качество работы вашего алгоритма с помощью `mean_squared_error` в `sklearn.metrics`. \n",
    "\n",
    "Возведите результат в степень 0.5, чтобы получить `RMSE`. Полученное значение `RMSE` — **ответ в пункте 2**."
   ]
  },
  {
   "cell_type": "code",
   "execution_count": 44,
   "metadata": {},
   "outputs": [],
   "source": [
    "def gbm_predict(X):\n",
    "    return [sum([coeff * algo.predict([x])[0] for algo, coeff in zip(arr_trees, arr_coefs)]) for x in X]"
   ]
  },
  {
   "cell_type": "code",
   "execution_count": 45,
   "metadata": {},
   "outputs": [],
   "source": [
    "from sklearn.tree import DecisionTreeRegressor\n",
    "import numpy as np"
   ]
  },
  {
   "cell_type": "code",
   "execution_count": 46,
   "metadata": {},
   "outputs": [],
   "source": [
    "C_treesmax = 50\n",
    "C_maxdepth = 5\n",
    "C_coef = 0.5\n",
    "\n",
    "arr_predicts = np.array([0. for i in range(X_train.shape[0])])\n",
    "\n",
    "arr_trees, arr_coefs = [], []\n",
    "for i in range(C_treesmax):\n",
    "    arr_trees.append(DecisionTreeRegressor(max_depth=C_maxdepth, random_state=42).fit(X=X_train, y=y_train-arr_predicts))\n",
    "    arr_predicts = gbm_predict(X_train)\n",
    "    arr_coefs.append(C_coef)\n",
    "    "
   ]
  },
  {
   "cell_type": "code",
   "execution_count": 47,
   "metadata": {},
   "outputs": [
    {
     "name": "stdout",
     "output_type": "stream",
     "text": [
      "26.31576897600369\n",
      "26.31576897600369\n",
      "5.129889762558616\n",
      "5.129889762558616\n"
     ]
    }
   ],
   "source": [
    "predicted_test = gbm_predict(X_test)\n",
    "\n",
    "mse_predicted = ((y_test-predicted_test)**2).sum()/y_test.shape[0]\n",
    "rmse_predicted = mse_predicted**0.5\n",
    "\n",
    "from sklearn.metrics import mean_squared_error\n",
    "mse_predicted_2 = mean_squared_error(y_test, predicted_test)\n",
    "rmse_predicted_2 = np.sqrt(mse_predicted_2)\n",
    "\n",
    "print(mse_predicted)\n",
    "print(mse_predicted_2)\n",
    "print(rmse_predicted)\n",
    "print(rmse_predicted_2)\n",
    "\n"
   ]
  },
  {
   "cell_type": "code",
   "execution_count": 48,
   "metadata": {},
   "outputs": [],
   "source": [
    "def write_answer_2(answ):\n",
    "    with open(\"2_answer_2.txt\", \"w\") as fout:\n",
    "        fout.write(str(answ))\n",
    "write_answer_2(rmse_predicted)"
   ]
  },
  {
   "cell_type": "markdown",
   "metadata": {},
   "source": [
    "## Задание 3\n",
    "\n",
    "Вас может также беспокоить, что двигаясь с постоянным шагом, вблизи минимума ошибки ответы на обучающей выборке меняются слишком резко, перескакивая через минимум. \n",
    "\n",
    "Попробуйте уменьшать вес перед каждым алгоритмом с каждой следующей итерацией по формуле `0.9 / (1.0 + i)`, где `i` - номер итерации (от 0 до 49). Используйте качество работы алгоритма как **ответ в пункте 3**. \n",
    "\n",
    "В реальности часто применяется следующая стратегия выбора шага: как только выбран алгоритм, подберем коэффициент перед ним численным методом оптимизации таким образом, чтобы отклонение от правильных ответов было минимальным. Мы не будем предлагать вам реализовать это для выполнения задания, но рекомендуем попробовать разобраться с такой стратегией и реализовать ее при случае для себя."
   ]
  },
  {
   "cell_type": "code",
   "execution_count": 52,
   "metadata": {},
   "outputs": [
    {
     "name": "stdout",
     "output_type": "stream",
     "text": [
      "4.534429258584183\n"
     ]
    }
   ],
   "source": [
    "C_treesmax = 50\n",
    "C_maxdepth = 5\n",
    "C_coef = 0.5\n",
    "\n",
    "arr_predicts = np.array([0. for i in range(X_train.shape[0])])\n",
    "\n",
    "arr_trees, arr_coefs = [], []\n",
    "for i in range(C_treesmax):\n",
    "    arr_trees.append(DecisionTreeRegressor(max_depth=C_maxdepth, random_state=42).fit(X=X_train, y=y_train-arr_predicts))\n",
    "    arr_predicts = gbm_predict(X_train)\n",
    "    arr_coefs.append(C_coef / (1.0 + i))\n",
    "\n",
    "predicted_test_3 = gbm_predict(X_test)\n",
    "rmse_predicted_3 = (((y_test-predicted_test_3)**2).sum()/y_test.shape[0])**0.5\n",
    "print(rmse_predicted_3)\n",
    "\n",
    "def write_answer_3(answ):\n",
    "    with open(\"2_answer_3.txt\", \"w\") as fout:\n",
    "        fout.write(str(answ))\n",
    "        \n",
    "write_answer_3(rmse_predicted_3)"
   ]
  },
  {
   "cell_type": "markdown",
   "metadata": {},
   "source": [
    "## Задание 4\n",
    "\n",
    "Реализованный вами метод - градиентный бустинг над деревьями - очень популярен в машинном обучении. Он представлен как в самой библиотеке `sklearn`, так и в сторонней библиотеке `XGBoost`, которая имеет свой питоновский интерфейс. На практике `XGBoost` работает заметно лучше `GradientBoostingRegressor` из `sklearn`, но для этого задания вы можете использовать любую реализацию. \n",
    "\n",
    "Исследуйте, переобучается ли градиентный бустинг с ростом числа итераций (и подумайте, почему), а также с ростом глубины деревьев. На основе наблюдений выпишите через пробел номера правильных из приведенных ниже утверждений в порядке возрастания номера (это будет **ответ в п.4**):\n",
    "\n",
    "    1. С увеличением числа деревьев, начиная с некоторого момента, качество работы градиентного бустинга не меняется существенно.\n",
    "\n",
    "    2. С увеличением числа деревьев, начиная с некоторого момента, градиентный бустинг начинает переобучаться.\n",
    "\n",
    "    3. С ростом глубины деревьев, начиная с некоторого момента, качество работы градиентного бустинга на тестовой выборке начинает ухудшаться.\n",
    "\n",
    "    4. С ростом глубины деревьев, начиная с некоторого момента, качество работы градиентного бустинга перестает существенно изменяться"
   ]
  },
  {
   "cell_type": "code",
   "execution_count": 63,
   "metadata": {},
   "outputs": [],
   "source": [
    "from sklearn import model_selection\n",
    "import xgboost as xgb\n",
    "import pylab"
   ]
  },
  {
   "cell_type": "code",
   "execution_count": 78,
   "metadata": {},
   "outputs": [
    {
     "name": "stdout",
     "output_type": "stream",
     "text": [
      "Wall time: 7min 48s\n"
     ]
    },
    {
     "data": {
      "text/plain": [
       "<matplotlib.legend.Legend at 0x7f6d8e0c8>"
      ]
     },
     "execution_count": 78,
     "metadata": {},
     "output_type": "execute_result"
    },
    {
     "data": {
      "image/png": "[encoded data removed]",
      "text/plain": [
       "<Figure size 432x288 with 1 Axes>"
      ]
     },
     "metadata": {
      "needs_background": "light"
     },
     "output_type": "display_data"
    }
   ],
   "source": [
    "%%time\n",
    "\n",
    "#n_trees = [3,13,23,33,43]\n",
    "n_trees = [30,40,50,60,70,80,90,100,110,200]\n",
    "\n",
    "xgb_scoring = []\n",
    "for n_tree in n_trees:\n",
    "    estimator = xgb.XGBClassifier(learning_rate=0.5, max_depth=5, n_estimators=n_tree, min_child_weight=3).fit(X_train,y_train)\n",
    "    score = mean_squared_error(y_test, estimator.predict(X_test))**0.5    \n",
    "    xgb_scoring.append(score)\n",
    "\n",
    "pylab.plot(n_trees, xgb_scoring, marker='.', label='XGBoost:n_trees')\n",
    "pylab.grid(True)\n",
    "#pylab.xlabel('n_trees')\n",
    "#pylab.ylabel('score')\n",
    "#pylab.title('RMSE')\n",
    "#pylab.legend(loc='lower right')\n",
    "\n",
    "\n",
    "\n",
    "max_depths = [1,2,3,4,5,6,7,8,9,10,11,12,13,14,15,20,30,50,70,100,200]\n",
    "\n",
    "xgb_scoring = []\n",
    "for max_depth_ in max_depths:\n",
    "    estimator = xgb.XGBClassifier(learning_rate=0.5, max_depth=max_depth_, n_estimators=20, min_child_weight=3).fit(X_train,y_train)\n",
    "    score = mean_squared_error(y_test, estimator.predict(X_test))**0.5    \n",
    "    xgb_scoring.append(score)\n",
    "\n",
    "pylab.plot(max_depths, xgb_scoring, marker='.', label='XGBoost:max_depths')\n",
    "pylab.grid(True)\n",
    "pylab.xlabel('n_trees|max_depths')\n",
    "pylab.ylabel('RMSE')\n",
    "pylab.title('RMSE')\n",
    "pylab.legend(loc='lower right')"
   ]
  },
  {
   "cell_type": "code",
   "execution_count": 73,
   "metadata": {},
   "outputs": [],
   "source": [
    "def write_answer_4(answ):\n",
    "    with open(\"2_answer_4.txt\", \"w\") as fout:\n",
    "        fout.write(str(answ))\n",
    "        \n",
    "write_answer_4('2 3') # странно, но пункт 4 не принимает, хочет 3-ий"
   ]
  },
  {
   "cell_type": "markdown",
   "metadata": {},
   "source": [
    "## Задание 5\n",
    "\n",
    "Сравните получаемое с помощью градиентного бустинга качество с качеством работы линейной регрессии. \n",
    "\n",
    "Для этого обучите `LinearRegression` из `sklearn.linear_model` (с параметрами по умолчанию) на обучающей выборке и оцените для прогнозов полученного алгоритма на тестовой выборке `RMSE`. Полученное качество - ответ в **пункте 5**. \n",
    "\n",
    "В данном примере качество работы простой модели должно было оказаться хуже, но не стоит забывать, что так бывает не всегда. В заданиях к этому курсу вы еще встретите пример обратной ситуации."
   ]
  },
  {
   "cell_type": "code",
   "execution_count": 76,
   "metadata": {},
   "outputs": [
    {
     "name": "stdout",
     "output_type": "stream",
     "text": [
      "8.254979753549156\n"
     ]
    }
   ],
   "source": [
    "from sklearn.linear_model import LinearRegression\n",
    "\n",
    "optimizer = LinearRegression()\n",
    "optimizer.fit(X_train,y_train)\n",
    "rmse_5 = mean_squared_error(y_test, optimizer.predict(X_test))**0.5\n",
    "print(rmse_5)\n",
    "\n",
    "def write_answer_5(answ):\n",
    "    with open(\"2_answer_5.txt\", \"w\") as fout:\n",
    "        fout.write(str(answ))\n",
    "        \n",
    "write_answer_5(rmse_5)"
   ]
  },
  {
   "cell_type": "code",
   "execution_count": null,
   "metadata": {},
   "outputs": [],
   "source": []
  }
 ],
 "metadata": {
  "kernelspec": {
   "display_name": "Python 3",
   "language": "python",
   "name": "python3"
  },
  "language_info": {
   "codemirror_mode": {
    "name": "ipython",
    "version": 3
   },
   "file_extension": ".py",
   "mimetype": "text/x-python",
   "name": "python",
   "nbconvert_exporter": "python",
   "pygments_lexer": "ipython3",
   "version": "3.7.4"
  }
 },
 "nbformat": 4,
 "nbformat_minor": 1
}
