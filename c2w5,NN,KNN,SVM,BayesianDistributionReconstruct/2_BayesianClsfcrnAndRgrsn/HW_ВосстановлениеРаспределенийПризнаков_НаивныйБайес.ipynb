{
 "cells": [
  {
   "cell_type": "code",
   "execution_count": 2,
   "metadata": {},
   "outputs": [],
   "source": [
    "from sklearn.datasets import load_breast_cancer, load_digits"
   ]
  },
  {
   "cell_type": "code",
   "execution_count": 9,
   "metadata": {},
   "outputs": [],
   "source": [
    "data_bc = load_breast_cancer()\n",
    "data_dg = load_digits()"
   ]
  },
  {
   "cell_type": "code",
   "execution_count": 10,
   "metadata": {},
   "outputs": [],
   "source": [
    "from sklearn.model_selection import cross_val_score"
   ]
  },
  {
   "cell_type": "code",
   "execution_count": 11,
   "metadata": {},
   "outputs": [],
   "source": [
    "from sklearn.naive_bayes import BernoulliNB, MultinomialNB, GaussianNB"
   ]
  },
  {
   "cell_type": "code",
   "execution_count": 18,
   "metadata": {},
   "outputs": [],
   "source": [
    "cv_score_bc_BrnlNB = cross_val_score(BernoulliNB(), data_bc.data, data_bc.target, cv=3, n_jobs=-1)\n",
    "cv_score_bc_MltnmlNB = cross_val_score(MultinomialNB(), data_bc.data, data_bc.target, cv=3, n_jobs=-1)\n",
    "cv_score_bc_GssnNB = cross_val_score(GaussianNB(), data_bc.data, data_bc.target, cv=3, n_jobs=-1)\n",
    "\n",
    "cv_score_dg_BrnlNB = cross_val_score(BernoulliNB(), data_dg.data, data_dg.target, cv=3, n_jobs=-1)\n",
    "cv_score_dg_MltnmlNB = cross_val_score(MultinomialNB(), data_dg.data, data_dg.target, cv=3, n_jobs=-1)\n",
    "cv_score_dg_GssnNB = cross_val_score(GaussianNB(), data_dg.data, data_dg.target, cv=3, n_jobs=-1)"
   ]
  },
  {
   "cell_type": "code",
   "execution_count": 19,
   "metadata": {},
   "outputs": [
    {
     "name": "stdout",
     "output_type": "stream",
     "text": [
      "0.6274204028589994\n",
      "0.8945790401930752\n",
      "0.9367492806089297\n",
      "\n",
      "0.8258236507780582\n",
      "0.8708771489735053\n",
      "0.8186003803550138\n"
     ]
    }
   ],
   "source": [
    "print(cv_score_bc_BrnlNB.mean())\n",
    "print(cv_score_bc_MltnmlNB.mean())\n",
    "print(cv_score_bc_GssnNB.mean())\n",
    "print()\n",
    "print(cv_score_dg_BrnlNB.mean())\n",
    "print(cv_score_dg_MltnmlNB.mean())\n",
    "print(cv_score_dg_GssnNB.mean())"
   ]
  },
  {
   "cell_type": "markdown",
   "metadata": {},
   "source": [
    "Вопрос 1\n",
    "\n",
    "Каким получилось максимальное качество классификации на датасете breast_cancer?"
   ]
  },
  {
   "cell_type": "code",
   "execution_count": 20,
   "metadata": {},
   "outputs": [],
   "source": [
    "answ_1 = cv_score_bc_GssnNB.mean()"
   ]
  },
  {
   "cell_type": "markdown",
   "metadata": {},
   "source": [
    "Вопрос 2\n",
    "\n",
    "Каким получилось максимальное качество классификации на датасете digits?"
   ]
  },
  {
   "cell_type": "code",
   "execution_count": 22,
   "metadata": {},
   "outputs": [],
   "source": [
    "answ_2 = cv_score_dg_MltnmlNB.mean()"
   ]
  },
  {
   "cell_type": "markdown",
   "metadata": {},
   "source": [
    "Вопрос 3\n",
    "\n",
    "Выберите верные утверждения и запишите их номера через пробел (в порядке возрастания номера):\n",
    "\n",
    "1) На вещественных признаках лучше всего сработал наивный байесовский классификатор с распределением Бернулли\n",
    "\n",
    "2) На вещественных признаках лучше всего сработал наивный байесовский классификатор с мультиномиальным распределением\n",
    "\n",
    "3) Мультиномиальное распределение лучше показало себя на выборке с целыми неотрицательными значениями признаков\n",
    "\n",
    "4) На вещественных признаках лучше всего сработало нормальное распределение"
   ]
  },
  {
   "cell_type": "code",
   "execution_count": 24,
   "metadata": {},
   "outputs": [
    {
     "data": {
      "text/plain": [
       "array([[ 0.,  0.,  5., ...,  0.,  0.,  0.],\n",
       "       [ 0.,  0.,  0., ..., 10.,  0.,  0.],\n",
       "       [ 0.,  0.,  0., ..., 16.,  9.,  0.],\n",
       "       ...,\n",
       "       [ 0.,  0.,  1., ...,  6.,  0.,  0.],\n",
       "       [ 0.,  0.,  2., ..., 12.,  0.,  0.],\n",
       "       [ 0.,  0., 10., ..., 12.,  1.,  0.]])"
      ]
     },
     "execution_count": 24,
     "metadata": {},
     "output_type": "execute_result"
    }
   ],
   "source": [
    "answ_3 = '3 4'\n",
    "data_dg.data"
   ]
  },
  {
   "cell_type": "code",
   "execution_count": 25,
   "metadata": {},
   "outputs": [],
   "source": [
    "def write_answer_1(answ):\n",
    "    with open(\"answer_1.txt\", \"w\") as fout:\n",
    "        fout.write(str(answ))\n",
    "def write_answer_2(answ):\n",
    "    with open(\"answer_2.txt\", \"w\") as fout:\n",
    "        fout.write(str(answ))\n",
    "def write_answer_3(answ):\n",
    "    with open(\"answer_3.txt\", \"w\") as fout:\n",
    "        fout.write(str(answ))"
   ]
  },
  {
   "cell_type": "code",
   "execution_count": 26,
   "metadata": {},
   "outputs": [],
   "source": [
    "write_answer_1(answ_1)\n",
    "write_answer_2(answ_2)\n",
    "write_answer_3(answ_3)"
   ]
  },
  {
   "cell_type": "code",
   "execution_count": null,
   "metadata": {},
   "outputs": [],
   "source": []
  }
 ],
 "metadata": {
  "kernelspec": {
   "display_name": "Python 3",
   "language": "python",
   "name": "python3"
  },
  "language_info": {
   "codemirror_mode": {
    "name": "ipython",
    "version": 3
   },
   "file_extension": ".py",
   "mimetype": "text/x-python",
   "name": "python",
   "nbconvert_exporter": "python",
   "pygments_lexer": "ipython3",
   "version": "3.7.4"
  }
 },
 "nbformat": 4,
 "nbformat_minor": 2
}
